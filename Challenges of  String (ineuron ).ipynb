{
 "cells": [
  {
   "cell_type": "markdown",
   "id": "c71fb323",
   "metadata": {},
   "source": [
    "# CHALLANGES OF STRING-BASIC :"
   ]
  },
  {
   "cell_type": "markdown",
   "id": "288db7ef",
   "metadata": {},
   "source": [
    "# ------------------------------------"
   ]
  },
  {
   "cell_type": "markdown",
   "id": "6ef5bf61",
   "metadata": {},
   "source": [
    "Given string is ----"
   ]
  },
  {
   "cell_type": "code",
   "execution_count": 1,
   "id": "a41cd65b",
   "metadata": {},
   "outputs": [],
   "source": [
    "s=\"this is My First Python programming class and i am learNING python string and it's function\""
   ]
  },
  {
   "cell_type": "code",
   "execution_count": 2,
   "id": "b59162a8",
   "metadata": {},
   "outputs": [
    {
     "data": {
      "text/plain": [
       "\"this is My First Python programming class and i am learNING python string and it's function\""
      ]
     },
     "execution_count": 2,
     "metadata": {},
     "output_type": "execute_result"
    }
   ],
   "source": [
    "s"
   ]
  },
  {
   "cell_type": "markdown",
   "id": "88015420",
   "metadata": {},
   "source": [
    "Q1. try to extract data index one to index 300 with the jump of 3."
   ]
  },
  {
   "cell_type": "code",
   "execution_count": 3,
   "id": "a0ec31a7",
   "metadata": {},
   "outputs": [
    {
     "data": {
      "text/plain": [
       "'h   r tnrrmglsnimeNGyosi dt ni'"
      ]
     },
     "execution_count": 3,
     "metadata": {},
     "output_type": "execute_result"
    }
   ],
   "source": [
    "s[1:301:3]"
   ]
  },
  {
   "cell_type": "markdown",
   "id": "61c8c5f9",
   "metadata": {},
   "source": [
    "# -----------------------------------------------------------------------------------------------------------------"
   ]
  },
  {
   "cell_type": "markdown",
   "id": "b121fe56",
   "metadata": {},
   "source": [
    "Q2. try to reverse a string without using reverse function ."
   ]
  },
  {
   "cell_type": "code",
   "execution_count": 4,
   "id": "d5cbce60",
   "metadata": {},
   "outputs": [
    {
     "data": {
      "text/plain": [
       "\"noitcnuf s'ti dna gnirts nohtyp GNINrael ma i dna ssalc gnimmargorp nohtyP tsriF yM si siht\""
      ]
     },
     "execution_count": 4,
     "metadata": {},
     "output_type": "execute_result"
    }
   ],
   "source": [
    "s[-1:-100:-1]"
   ]
  },
  {
   "cell_type": "markdown",
   "id": "965b22d1",
   "metadata": {},
   "source": [
    "# ------------------------------------------------------------------------------------------------------------"
   ]
  },
  {
   "cell_type": "markdown",
   "id": "14feb4a6",
   "metadata": {},
   "source": [
    "Q3. try to split a string after conversion of entired string in uppercase."
   ]
  },
  {
   "cell_type": "code",
   "execution_count": 5,
   "id": "8b4aebd5",
   "metadata": {},
   "outputs": [],
   "source": [
    "u=s.upper()"
   ]
  },
  {
   "cell_type": "code",
   "execution_count": 6,
   "id": "b7416f44",
   "metadata": {},
   "outputs": [
    {
     "data": {
      "text/plain": [
       "\"THIS IS MY FIRST PYTHON PROGRAMMING CLASS AND I AM LEARNING PYTHON STRING AND IT'S FUNCTION\""
      ]
     },
     "execution_count": 6,
     "metadata": {},
     "output_type": "execute_result"
    }
   ],
   "source": [
    "u"
   ]
  },
  {
   "cell_type": "code",
   "execution_count": 9,
   "id": "f371bf81",
   "metadata": {},
   "outputs": [
    {
     "data": {
      "text/plain": [
       "['THIS',\n",
       " 'IS',\n",
       " 'MY',\n",
       " 'FIRST',\n",
       " 'PYTHON',\n",
       " 'PROGRAMMING',\n",
       " 'CLASS',\n",
       " 'AND',\n",
       " 'I',\n",
       " 'AM',\n",
       " 'LEARNING',\n",
       " 'PYTHON',\n",
       " 'STRING',\n",
       " 'AND',\n",
       " \"IT'S\",\n",
       " 'FUNCTION']"
      ]
     },
     "execution_count": 9,
     "metadata": {},
     "output_type": "execute_result"
    }
   ],
   "source": [
    "v=u.split(' ')\n",
    "v"
   ]
  },
  {
   "cell_type": "code",
   "execution_count": 10,
   "id": "dca5870b",
   "metadata": {},
   "outputs": [
    {
     "data": {
      "text/plain": [
       "16"
      ]
     },
     "execution_count": 10,
     "metadata": {},
     "output_type": "execute_result"
    }
   ],
   "source": [
    "len(v)"
   ]
  },
  {
   "cell_type": "markdown",
   "id": "e7e4f7fb",
   "metadata": {},
   "source": [
    "# ----------------------------------------------------------------------------------------------------------------"
   ]
  },
  {
   "cell_type": "markdown",
   "id": "05d7c391",
   "metadata": {},
   "source": [
    "Q4. try to convert the whole string into lower case."
   ]
  },
  {
   "cell_type": "code",
   "execution_count": 11,
   "id": "70298884",
   "metadata": {},
   "outputs": [
    {
     "data": {
      "text/plain": [
       "\"this is my first python programming class and i am learning python string and it's function\""
      ]
     },
     "execution_count": 11,
     "metadata": {},
     "output_type": "execute_result"
    }
   ],
   "source": [
    "s.lower()"
   ]
  },
  {
   "cell_type": "markdown",
   "id": "78344ab3",
   "metadata": {},
   "source": [
    "# ---------------------------------------------------------------------------------------------------------"
   ]
  },
  {
   "cell_type": "markdown",
   "id": "e84c5b92",
   "metadata": {},
   "source": [
    "Q5. Try to capitalise the whole string ."
   ]
  },
  {
   "cell_type": "code",
   "execution_count": 12,
   "id": "f1dc7130",
   "metadata": {},
   "outputs": [
    {
     "data": {
      "text/plain": [
       "\"This is my first python programming class and i am learning python string and it's function\""
      ]
     },
     "execution_count": 12,
     "metadata": {},
     "output_type": "execute_result"
    }
   ],
   "source": [
    "s.capitalize()"
   ]
  },
  {
   "cell_type": "markdown",
   "id": "e0ea0821",
   "metadata": {},
   "source": [
    "# ------------------------------------------------------------------------------------------------------------"
   ]
  },
  {
   "cell_type": "markdown",
   "id": "db8ae14c",
   "metadata": {},
   "source": [
    "Q6.write a differrence between isalnum() and isalpha()."
   ]
  },
  {
   "cell_type": "code",
   "execution_count": 13,
   "id": "fe07b7b7",
   "metadata": {},
   "outputs": [
    {
     "data": {
      "text/plain": [
       "False"
      ]
     },
     "execution_count": 13,
     "metadata": {},
     "output_type": "execute_result"
    }
   ],
   "source": [
    "s.isalpha()"
   ]
  },
  {
   "cell_type": "code",
   "execution_count": 14,
   "id": "e38394f3",
   "metadata": {},
   "outputs": [
    {
     "data": {
      "text/plain": [
       "False"
      ]
     },
     "execution_count": 14,
     "metadata": {},
     "output_type": "execute_result"
    }
   ],
   "source": [
    "s.isalnum()"
   ]
  },
  {
   "cell_type": "code",
   "execution_count": 15,
   "id": "5c7a583b",
   "metadata": {},
   "outputs": [],
   "source": [
    "e='Patra'"
   ]
  },
  {
   "cell_type": "code",
   "execution_count": 17,
   "id": "deb7ca3b",
   "metadata": {},
   "outputs": [
    {
     "data": {
      "text/plain": [
       "True"
      ]
     },
     "execution_count": 17,
     "metadata": {},
     "output_type": "execute_result"
    }
   ],
   "source": [
    "e.isalpha()"
   ]
  },
  {
   "cell_type": "markdown",
   "id": "0c0e5331",
   "metadata": {},
   "source": [
    "isalpha() function checks weather a string is a combination of alphabets and numerics /digits or not . Meanwhile the isalnum() function checks that the perticular string is only the combination of alphabets or not. (There should be atleast one charecter in the string.)\n",
    "Both the functions give us the output or result in term of true and false . This is the main differance between these two string functions .\n"
   ]
  },
  {
   "cell_type": "markdown",
   "id": "c27c42ab",
   "metadata": {},
   "source": [
    "# -----------------------------------------------------------------------------------------------------"
   ]
  },
  {
   "cell_type": "markdown",
   "id": "2ec7d1a9",
   "metadata": {},
   "source": [
    "Q7. try to give an example of expandtabs."
   ]
  },
  {
   "cell_type": "code",
   "execution_count": 21,
   "id": "3e66c4fb",
   "metadata": {},
   "outputs": [],
   "source": [
    "a=\"Pravat\\t Patra\\t\""
   ]
  },
  {
   "cell_type": "code",
   "execution_count": 24,
   "id": "33f3bd6a",
   "metadata": {},
   "outputs": [
    {
     "data": {
      "text/plain": [
       "'Pravat   Patra  '"
      ]
     },
     "execution_count": 24,
     "metadata": {},
     "output_type": "execute_result"
    }
   ],
   "source": [
    "a.expandtabs()"
   ]
  },
  {
   "cell_type": "markdown",
   "id": "577a9946",
   "metadata": {},
   "source": [
    "# --------------------------------------------------------------------------------------------------------"
   ]
  },
  {
   "cell_type": "markdown",
   "id": "8b438cb0",
   "metadata": {},
   "source": [
    "Q8. Give an exmple of strip(),lstrip(),rstrip()."
   ]
  },
  {
   "cell_type": "code",
   "execution_count": 25,
   "id": "e99f76a5",
   "metadata": {},
   "outputs": [],
   "source": [
    "c='   Pravat    '"
   ]
  },
  {
   "cell_type": "code",
   "execution_count": 26,
   "id": "a1dafe92",
   "metadata": {},
   "outputs": [
    {
     "data": {
      "text/plain": [
       "'Pravat'"
      ]
     },
     "execution_count": 26,
     "metadata": {},
     "output_type": "execute_result"
    }
   ],
   "source": [
    "c.strip()"
   ]
  },
  {
   "cell_type": "code",
   "execution_count": 27,
   "id": "5e642161",
   "metadata": {},
   "outputs": [
    {
     "data": {
      "text/plain": [
       "'Pravat    '"
      ]
     },
     "execution_count": 27,
     "metadata": {},
     "output_type": "execute_result"
    }
   ],
   "source": [
    "c.lstrip()"
   ]
  },
  {
   "cell_type": "code",
   "execution_count": 28,
   "id": "4ebf96bc",
   "metadata": {},
   "outputs": [
    {
     "data": {
      "text/plain": [
       "'   Pravat'"
      ]
     },
     "execution_count": 28,
     "metadata": {},
     "output_type": "execute_result"
    }
   ],
   "source": [
    "c.rstrip()"
   ]
  },
  {
   "cell_type": "markdown",
   "id": "c483c61f",
   "metadata": {},
   "source": [
    "# -----------------------------------------------------------------------------------------------------------------"
   ]
  },
  {
   "cell_type": "markdown",
   "id": "63356a9a",
   "metadata": {},
   "source": [
    "Q9. replace a string character by anaother charecter by taking your own example."
   ]
  },
  {
   "cell_type": "code",
   "execution_count": 29,
   "id": "a7173863",
   "metadata": {},
   "outputs": [],
   "source": [
    "b=\"I must be a best data scientist one day.\""
   ]
  },
  {
   "cell_type": "code",
   "execution_count": 30,
   "id": "256d0345",
   "metadata": {},
   "outputs": [
    {
     "data": {
      "text/plain": [
       "'I must be aaa best daaataaa scientist one daaay.'"
      ]
     },
     "execution_count": 30,
     "metadata": {},
     "output_type": "execute_result"
    }
   ],
   "source": [
    "b.replace('a','aaa')"
   ]
  },
  {
   "cell_type": "markdown",
   "id": "26341d15",
   "metadata": {},
   "source": [
    "# ------------------------------------------------------------------------------------------------"
   ]
  },
  {
   "cell_type": "markdown",
   "id": "49c667e7",
   "metadata": {},
   "source": [
    "Q10.try to give a defination of string center function with an example."
   ]
  },
  {
   "cell_type": "code",
   "execution_count": 31,
   "id": "e059d1db",
   "metadata": {},
   "outputs": [],
   "source": [
    "s='pravat'"
   ]
  },
  {
   "cell_type": "code",
   "execution_count": null,
   "id": "94903eef",
   "metadata": {},
   "outputs": [],
   "source": [
    " s.center(100,'-')"
   ]
  },
  {
   "cell_type": "markdown",
   "id": "03dac76e",
   "metadata": {},
   "source": [
    "center() function is a function of string with help of which we can expand the length of our string using some any simbol or anything including space  , keeping the main string in the middle position.There are two arrgment we must be give in this fuction .Fisrt one is the length and the last one is that perticular charecter or symbol or spcace whatever it is, with help odf which it is expanding the given string.In the above example we have a string 'pravat'.Now with help of the center () , we are expanding the string length to 100 with help of the '-' symbol.so here I am giving the arguments, length and this special symbol in this function respectively.  "
   ]
  },
  {
   "cell_type": "markdown",
   "id": "7afa3c51",
   "metadata": {},
   "source": [
    "# ------------------------------------------------------------------------------------------------------"
   ]
  },
  {
   "cell_type": "markdown",
   "id": "9c3a15c3",
   "metadata": {},
   "source": [
    "Q11. Write your own defination of compliler and interprerter without copy paste from internet . "
   ]
  },
  {
   "cell_type": "markdown",
   "id": "823b67b3",
   "metadata": {},
   "source": [
    "Basically compiler and interpreter are those with help of which we are able to convert the souce code into machine code .But there are some differance between these two things. Compiler reads the entire source code , scan it , analyse it , then convert it as a machine code.As it checks the whole code at a time so that it may take large amount of time.\n",
    "Meanwhile the interpreter reads one statement of the souce code at a time and that is the reason , interpreter takes less amount of time . But with respect to the execution time compiler is faster than interpreter.  "
   ]
  },
  {
   "cell_type": "markdown",
   "id": "2cc3c748",
   "metadata": {},
   "source": [
    "# --------------------------------------------------------------------------------------------------------------"
   ]
  },
  {
   "cell_type": "markdown",
   "id": "0dacc2de",
   "metadata": {},
   "source": [
    "Q12. Python is a interpreted of compiled language . give a clear answer with your understanding."
   ]
  },
  {
   "cell_type": "markdown",
   "id": "3760c438",
   "metadata": {},
   "source": [
    "Yes , Python is a interpreted of compiled language because if i write a code , python first checks for syntex and which is convert into bytecode and loaded directly in memory . Afterthat this bytecode is interpreted from memory for execution . "
   ]
  },
  {
   "cell_type": "markdown",
   "id": "0a6e16fd",
   "metadata": {},
   "source": [
    "# ------------------------------------------------------------------------------------------------------"
   ]
  },
  {
   "cell_type": "markdown",
   "id": "a9bc4db6",
   "metadata": {},
   "source": [
    "Q13. Try to write a usecase of Python  with your understanding ."
   ]
  },
  {
   "cell_type": "markdown",
   "id": "38b95d44",
   "metadata": {},
   "source": [
    "Being a easy language compare to others python has a lots of usecase. \n",
    "1.Python is used in so many education sector for it's simplicity . It is also a beginner friendly language.\n",
    "2.Python is very much used in data science domain like mechine learning , AI. It has so many in built function so that it is very helpful to use.\n",
    "3.besides them , pyhton is used for game development , internet of things nad many more."
   ]
  },
  {
   "cell_type": "code",
   "execution_count": null,
   "id": "edbf9490",
   "metadata": {},
   "outputs": [],
   "source": []
  }
 ],
 "metadata": {
  "kernelspec": {
   "display_name": "Python 3",
   "language": "python",
   "name": "python3"
  },
  "language_info": {
   "codemirror_mode": {
    "name": "ipython",
    "version": 3
   },
   "file_extension": ".py",
   "mimetype": "text/x-python",
   "name": "python",
   "nbconvert_exporter": "python",
   "pygments_lexer": "ipython3",
   "version": "3.8.8"
  }
 },
 "nbformat": 4,
 "nbformat_minor": 5
}
